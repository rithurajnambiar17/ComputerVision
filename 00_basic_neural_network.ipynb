{
  "nbformat": 4,
  "nbformat_minor": 0,
  "metadata": {
    "colab": {
      "name": "00_basic-neural-network",
      "provenance": [],
      "collapsed_sections": [],
      "authorship_tag": "ABX9TyNtysCzxZmKXERDvbY7Dsog"
    },
    "kernelspec": {
      "name": "python3",
      "display_name": "Python 3"
    },
    "language_info": {
      "name": "python"
    }
  },
  "cells": [
    {
      "cell_type": "markdown",
      "source": [
        "# Basic Neural Network using MNIST dataset\n",
        "\n",
        "Steps for creating a neural network:\n",
        "\n",
        "1. Loading the data\n",
        "2. Defining the model architecture\n",
        "3. Compiling the model, defining optimizer, loss and metrics, etc.\n",
        "4. Checking for if the data is ready for training (The shape of the data should be compatible with the model architecture)\n",
        "5. Fitting the model, defining epochs, batch_size, etc.\n",
        "6. Evaluating the model"
      ],
      "metadata": {
        "id": "UfA_OwgPGrZo"
      }
    },
    {
      "cell_type": "markdown",
      "source": [
        "> Importing the required modules/libraries"
      ],
      "metadata": {
        "id": "9Km6VI92IUaP"
      }
    },
    {
      "cell_type": "code",
      "execution_count": 13,
      "metadata": {
        "id": "oJiMgVDNGOL-"
      },
      "outputs": [],
      "source": [
        "from keras.datasets import mnist\n",
        "from keras import models, layers\n",
        "from tensorflow.keras.utils import to_categorical"
      ]
    },
    {
      "cell_type": "markdown",
      "source": [
        "> Loading the data\n",
        "\n",
        "The data is already split into train and test set, so we import seperate train and test variables for feature as well as target variable."
      ],
      "metadata": {
        "id": "L-zcAt5xIdNT"
      }
    },
    {
      "cell_type": "code",
      "source": [
        "(train_images, train_labels), (test_images, test_labels) = mnist.load_data()"
      ],
      "metadata": {
        "colab": {
          "base_uri": "https://localhost:8080/"
        },
        "id": "0RICh8s-GXpM",
        "outputId": "04bc74a0-8d35-4a37-811c-fbccdad406d2"
      },
      "execution_count": 2,
      "outputs": [
        {
          "output_type": "stream",
          "name": "stdout",
          "text": [
            "Downloading data from https://storage.googleapis.com/tensorflow/tf-keras-datasets/mnist.npz\n",
            "11493376/11490434 [==============================] - 0s 0us/step\n",
            "11501568/11490434 [==============================] - 0s 0us/step\n"
          ]
        }
      ]
    },
    {
      "cell_type": "code",
      "source": [
        "train_images.shape"
      ],
      "metadata": {
        "colab": {
          "base_uri": "https://localhost:8080/"
        },
        "id": "DCuhABD7GY1R",
        "outputId": "0f88293d-2e01-461d-92f8-666d673dbc37"
      },
      "execution_count": 3,
      "outputs": [
        {
          "output_type": "execute_result",
          "data": {
            "text/plain": [
              "(60000, 28, 28)"
            ]
          },
          "metadata": {},
          "execution_count": 3
        }
      ]
    },
    {
      "cell_type": "markdown",
      "source": [
        "> Defining model architecture"
      ],
      "metadata": {
        "id": "KizVqgyuJHzg"
      }
    },
    {
      "cell_type": "code",
      "source": [
        "model = models.Sequential()\n",
        "model.add(layers.Dense(512, activation = 'relu'))\n",
        "model.add(layers.Dense(10, activation = 'softmax'))"
      ],
      "metadata": {
        "id": "LVD71x90GaLx"
      },
      "execution_count": 4,
      "outputs": []
    },
    {
      "cell_type": "markdown",
      "source": [
        "> Compiling the model"
      ],
      "metadata": {
        "id": "afM12ntJJUci"
      }
    },
    {
      "cell_type": "code",
      "source": [
        "model.compile(\n",
        "    optimizer = 'rmsprop',\n",
        "    loss = 'categorical_crossentropy',\n",
        "    metrics = ['accuracy']\n",
        ")"
      ],
      "metadata": {
        "id": "-IoN0ByOGbPa"
      },
      "execution_count": 5,
      "outputs": []
    },
    {
      "cell_type": "markdown",
      "source": [
        "> Reshaping the data samples"
      ],
      "metadata": {
        "id": "cHMwUFniJXe2"
      }
    },
    {
      "cell_type": "code",
      "source": [
        "train_images = train_images.reshape((60000, 28 * 28))\n",
        "train_images = train_images.astype('float32') / 255\n",
        "\n",
        "test_images = test_images.reshape((10000, 28 * 28))\n",
        "test_images = test_images.astype('float32') / 255"
      ],
      "metadata": {
        "id": "3YOcmV6pGcLH"
      },
      "execution_count": 6,
      "outputs": []
    },
    {
      "cell_type": "markdown",
      "source": [
        "> Converting labels into categorical arrays"
      ],
      "metadata": {
        "id": "G3iXCdrqJecQ"
      }
    },
    {
      "cell_type": "code",
      "source": [
        "train_labels = to_categorical(train_labels)\n",
        "test_labels = to_categorical(test_labels)"
      ],
      "metadata": {
        "id": "rT7Fl95PGdtj"
      },
      "execution_count": 7,
      "outputs": []
    },
    {
      "cell_type": "markdown",
      "source": [
        "> Fitting the model"
      ],
      "metadata": {
        "id": "bTHBCHQrJiIZ"
      }
    },
    {
      "cell_type": "code",
      "source": [
        "model.fit(train_images, train_labels, \n",
        "          epochs = 5, \n",
        "          batch_size = 128)"
      ],
      "metadata": {
        "colab": {
          "base_uri": "https://localhost:8080/"
        },
        "id": "IBkI-xbHGeuo",
        "outputId": "83d7647d-4e3f-43ed-a717-3edfac1d340c"
      },
      "execution_count": 8,
      "outputs": [
        {
          "output_type": "stream",
          "name": "stdout",
          "text": [
            "Epoch 1/5\n",
            "469/469 [==============================] - 5s 8ms/step - loss: 0.2546 - accuracy: 0.9261\n",
            "Epoch 2/5\n",
            "469/469 [==============================] - 5s 10ms/step - loss: 0.1030 - accuracy: 0.9694\n",
            "Epoch 3/5\n",
            "469/469 [==============================] - 4s 9ms/step - loss: 0.0686 - accuracy: 0.9796\n",
            "Epoch 4/5\n",
            "469/469 [==============================] - 4s 9ms/step - loss: 0.0491 - accuracy: 0.9856\n",
            "Epoch 5/5\n",
            "469/469 [==============================] - 4s 9ms/step - loss: 0.0368 - accuracy: 0.9884\n"
          ]
        },
        {
          "output_type": "execute_result",
          "data": {
            "text/plain": [
              "<keras.callbacks.History at 0x7f411a98f510>"
            ]
          },
          "metadata": {},
          "execution_count": 8
        }
      ]
    },
    {
      "cell_type": "markdown",
      "source": [
        "> Evaluating the model"
      ],
      "metadata": {
        "id": "WvK3kCWuJlgi"
      }
    },
    {
      "cell_type": "code",
      "source": [
        "test_loss, test_acc = model.evaluate(test_images, test_labels)"
      ],
      "metadata": {
        "colab": {
          "base_uri": "https://localhost:8080/"
        },
        "id": "1-IQrggxGf2v",
        "outputId": "6246d11b-4b12-4ff6-cd4a-d18145e367d0"
      },
      "execution_count": 9,
      "outputs": [
        {
          "output_type": "stream",
          "name": "stdout",
          "text": [
            "313/313 [==============================] - 1s 2ms/step - loss: 0.0674 - accuracy: 0.9796\n"
          ]
        }
      ]
    },
    {
      "cell_type": "code",
      "source": [
        "print(f'Loss: {test_loss} \\nAccuracy: {test_acc}')"
      ],
      "metadata": {
        "colab": {
          "base_uri": "https://localhost:8080/"
        },
        "id": "tg2zz2iOGhhy",
        "outputId": "31cbed33-1985-443c-cbdc-61a5dcab9103"
      },
      "execution_count": 19,
      "outputs": [
        {
          "output_type": "stream",
          "name": "stdout",
          "text": [
            "Loss: 0.06738878786563873 \n",
            "Accuracy: 0.9796000123023987\n"
          ]
        }
      ]
    }
  ]
}